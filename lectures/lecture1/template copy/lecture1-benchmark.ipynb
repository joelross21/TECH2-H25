{
 "cells": [
  {
   "cell_type": "markdown",
   "id": "72ff393e",
   "metadata": {},
   "source": [
    "# Benchmarking against NumPy's `argmax()`\n",
    "\n",
    "We want to compare our implementation of `argmax()` against NumPy's own\n",
    "implementation, [`np.argmax()`](https://numpy.org/doc/stable/reference/generated/numpy.argmax.html).\n",
    "\n",
    "1.  Import the `lecture1` module and NumPy.\n",
    "2.  Use the function `get_test_values()` defined below to get a sample of\n",
    "    10 randomly drawn numbers.\n",
    "3.  Use the [`%timeit`](https://ipython.readthedocs.io/en/stable/interactive/magics.html#magic-timeit)\n",
    "    cell magic to measure the execution time of \n",
    "    your `argmax()` implementation against NumPy's. This can be achieved\n",
    "    as follows:\n",
    "\n",
    "    ```python\n",
    "    %timeit np.argmax(values)\n",
    "    ```\n",
    "    \n",
    "    Which one is faster?\n",
    "4.  Repeat the exercise for a sample of 1,000 random numbers.\n"
   ]
  },
  {
   "cell_type": "code",
   "execution_count": 15,
   "id": "0de0cddd",
   "metadata": {},
   "outputs": [],
   "source": [
    "def get_test_values(n):\n",
    "    \"\"\"\n",
    "    Return an array of n randomly generated values.\n",
    "\n",
    "    Parameters\n",
    "    ----------\n",
    "    n : int\n",
    "        The number of random values to generate.\n",
    "\n",
    "    Returns\n",
    "    -------\n",
    "    np.ndarray\n",
    "        An array of n random values uniformly distributed in the range [0, 1].\n",
    "    \"\"\"\n",
    "    import numpy as np\n",
    "    \n",
    "    # Create an instance of a random number generator\n",
    "    rng = np.random.default_rng(seed=1234)\n",
    "\n",
    "    # Generate n random values uniformly distributed in the range [0, 1]\n",
    "    values = rng.random(n)\n",
    "\n",
    "    return values"
   ]
  },
  {
   "cell_type": "code",
   "execution_count": 23,
   "id": "2168e0f3",
   "metadata": {},
   "outputs": [
    {
     "name": "stdout",
     "output_type": "stream",
     "text": [
      "[0.97669977 0.38019574 0.92324623 ... 0.19143604 0.58681009 0.41677765]\n"
     ]
    }
   ],
   "source": [
    "values = get_test_values(10000000) \n",
    "\n",
    "print(values)"
   ]
  },
  {
   "cell_type": "code",
   "execution_count": 24,
   "id": "292e5aeb",
   "metadata": {},
   "outputs": [
    {
     "data": {
      "text/plain": [
       "2425015"
      ]
     },
     "execution_count": 24,
     "metadata": {},
     "output_type": "execute_result"
    }
   ],
   "source": [
    "import lecture1_jrr\n",
    "\n",
    "lecture1_jrr.argmax(values)"
   ]
  },
  {
   "cell_type": "code",
   "execution_count": 25,
   "id": "535c518a",
   "metadata": {},
   "outputs": [
    {
     "data": {
      "text/plain": [
       "np.int64(2425015)"
      ]
     },
     "execution_count": 25,
     "metadata": {},
     "output_type": "execute_result"
    }
   ],
   "source": [
    "import numpy as np\n",
    "\n",
    "np.argmax(values)"
   ]
  },
  {
   "cell_type": "code",
   "execution_count": 26,
   "id": "415b66fd",
   "metadata": {},
   "outputs": [
    {
     "name": "stdout",
     "output_type": "stream",
     "text": [
      "8.94 ms ± 127 μs per loop (mean ± std. dev. of 7 runs, 100 loops each)\n"
     ]
    }
   ],
   "source": [
    "%timeit np.argmax(values)"
   ]
  },
  {
   "cell_type": "code",
   "execution_count": 27,
   "id": "2ac13621",
   "metadata": {},
   "outputs": [
    {
     "name": "stdout",
     "output_type": "stream",
     "text": [
      "2.63 s ± 454 ms per loop (mean ± std. dev. of 7 runs, 1 loop each)\n"
     ]
    }
   ],
   "source": [
    "%timeit lecture1_jrr.argmax(values)"
   ]
  }
 ],
 "metadata": {
  "kernelspec": {
   "display_name": "TECH2",
   "language": "python",
   "name": "python3"
  },
  "language_info": {
   "codemirror_mode": {
    "name": "ipython",
    "version": 3
   },
   "file_extension": ".py",
   "mimetype": "text/x-python",
   "name": "python",
   "nbconvert_exporter": "python",
   "pygments_lexer": "ipython3",
   "version": "3.13.5"
  }
 },
 "nbformat": 4,
 "nbformat_minor": 5
}
